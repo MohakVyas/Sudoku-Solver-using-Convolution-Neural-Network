{
 "cells": [
  {
   "cell_type": "code",
   "execution_count": 64,
   "id": "00eef216",
   "metadata": {},
   "outputs": [],
   "source": [
    "import cv2\n",
    "import numpy as np"
   ]
  },
  {
   "cell_type": "markdown",
   "id": "0d6342ff",
   "metadata": {},
   "source": [
    "### Reading image and performing simple processes\n"
   ]
  },
  {
   "cell_type": "code",
   "execution_count": 62,
   "id": "c5073757",
   "metadata": {},
   "outputs": [],
   "source": [
    "im = cv2.imread(r'D:\\1670993283171.jpg')\n",
    "(h, w, d) = im.shape\n",
    "resized = cv2.resize(im, (400, 400*h//w))\n",
    "resized_gray = cv2.cvtColor(resized, cv2.COLOR_BGR2GRAY)\n",
    "\n",
    "cv2.startWindowThread()\n",
    "# cv2.imshow(\"resized\", resized)\n",
    "cv2.imshow(\"resized Gray\", resized_gray)\n",
    "cv2.waitKey(0)\n",
    "cv2.destroyAllWindows()\n"
   ]
  },
  {
   "cell_type": "markdown",
   "id": "daee911c",
   "metadata": {},
   "source": [
    "### Using Simple blob detector"
   ]
  },
  {
   "cell_type": "code",
   "execution_count": 14,
   "id": "b8b69fd7",
   "metadata": {},
   "outputs": [],
   "source": [
    "detector = cv2.SimpleBlobDetector_create()\n",
    "\n",
    "keypoints = detector.detect(resized_gray)\n",
    "\n",
    "im_with_key = cv2.drawKeypoints(resized, keypoints, (0,0,255), cv2.DRAW_MATCHES_FLAGS_DRAW_RICH_KEYPOINTS)"
   ]
  },
  {
   "cell_type": "code",
   "execution_count": 9,
   "id": "b21e246b",
   "metadata": {},
   "outputs": [],
   "source": [
    "cv2.startWindowThread()\n",
    "cv2.imshow(\"Keypoints\", im_with_key)\n",
    "cv2.waitKey(0)\n",
    "cv2.destroyAllWindows()"
   ]
  },
  {
   "cell_type": "markdown",
   "id": "5eddca5b",
   "metadata": {},
   "source": [
    "### Using edge detection"
   ]
  },
  {
   "cell_type": "code",
   "execution_count": 60,
   "id": "b2687d51",
   "metadata": {},
   "outputs": [],
   "source": [
    "edged  = cv2.Canny(resized_gray, 10, 320)\n",
    "_, thresh = cv2.threshold(edged, 20, 255, cv2.THRESH_BINARY_INV)"
   ]
  },
  {
   "cell_type": "code",
   "execution_count": 61,
   "id": "b071db5e",
   "metadata": {},
   "outputs": [],
   "source": [
    "cv2.startWindowThread()\n",
    "cv2.imshow('Edged', edged)\n",
    "# cv2.imshow(\"Thresh\", thresh)\n",
    "cv2.waitKey(0)\n",
    "cv2.destroyAllWindows()"
   ]
  },
  {
   "cell_type": "markdown",
   "id": "2e0cf764",
   "metadata": {},
   "source": [
    "### Whole Code\n"
   ]
  },
  {
   "cell_type": "code",
   "execution_count": 205,
   "id": "b4bb8b2e",
   "metadata": {},
   "outputs": [],
   "source": [
    "image = cv2.imread(r'D:\\1670993283171.jpg')\n",
    "image = cv2.resize(image, (400, 400*h//w))\n",
    "\n",
    "gray = cv2.cvtColor(image, cv2.COLOR_BGR2GRAY)\n",
    "blurred = cv2.GaussianBlur(gray, (7, 7), 0.8)\n",
    "edges = cv2.Canny(blurred, 10, 300)\n",
    "\n",
    "# cv2.imshow('Edged', edged)\n",
    "# cv2.waitKey(0)\n",
    "# cv2.destroyAllWindows()\n",
    "\n",
    "contours, _ = cv2.findContours(edges.copy(), cv2.RETR_EXTERNAL, cv2.CHAIN_APPROX_SIMPLE)\n",
    "\n",
    "for contour in contours:\n",
    "    if cv2.contourArea(contour) < 100:\n",
    "        continue\n",
    "    \n",
    "    epsilon = 0.02 * cv2.arcLength(contour, True)\n",
    "    approx = cv2.approxPolyDP(contour, epsilon, True)\n",
    "    if len(approx) < 3:\n",
    "        continue\n",
    "\n",
    "    sides = len(approx)\n",
    "\n",
    "    cv2.drawContours(image, [approx], 0, (0, 255, 10), 2)\n",
    "    cv2.putText(image, str(sides), tuple(approx[0][0]), cv2.FONT_HERSHEY_SIMPLEX, 0.5, (0, 0, 0), 1)\n",
    "\n",
    "\n"
   ]
  },
  {
   "cell_type": "code",
   "execution_count": 206,
   "id": "608e1d40",
   "metadata": {},
   "outputs": [],
   "source": [
    "cv2.imshow('Polygons with Sides Count', image)\n",
    "cv2.waitKey(0)\n",
    "cv2.destroyAllWindows()"
   ]
  }
 ],
 "metadata": {
  "kernelspec": {
   "display_name": "Python 3 (ipykernel)",
   "language": "python",
   "name": "python3"
  },
  "language_info": {
   "codemirror_mode": {
    "name": "ipython",
    "version": 3
   },
   "file_extension": ".py",
   "mimetype": "text/x-python",
   "name": "python",
   "nbconvert_exporter": "python",
   "pygments_lexer": "ipython3",
   "version": "3.10.4"
  }
 },
 "nbformat": 4,
 "nbformat_minor": 5
}

{
  "nbformat": 4,
  "nbformat_minor": 0,
  "metadata": {
    "colab": {
      "provenance": [],
      "gpuType": "T4"
    },
    "kernelspec": {
      "name": "python3",
      "display_name": "Python 3"
    },
    "language_info": {
      "name": "python"
    },
    "accelerator": "GPU"
  },
  "cells": [
    {
      "cell_type": "markdown",
      "source": [
        "# Using TensorFlow"
      ],
      "metadata": {
        "id": "jt9FraxLpjR0"
      }
    },
    {
      "cell_type": "markdown",
      "source": [
        "## Using NN to classification on MNIST\n",
        "\n",
        "\n",
        "  "
      ],
      "metadata": {
        "id": "VIx6NuIqEMJB"
      }
    },
    {
      "cell_type": "code",
      "execution_count": null,
      "metadata": {
        "id": "rVWXS6-7iRaV"
      },
      "outputs": [],
      "source": [
        "import tensorflow as tf\n",
        "from tensorflow import keras\n",
        "import numpy as np"
      ]
    },
    {
      "cell_type": "code",
      "source": [
        "(x_train, y_train), (x_val, y_val) = keras.datasets.fashion_mnist.load_data()\n"
      ],
      "metadata": {
        "id": "zj1ACksRiTIp",
        "colab": {
          "base_uri": "https://localhost:8080/"
        },
        "outputId": "8e665bc8-503d-458d-f677-7a0b4fb6a4bf"
      },
      "execution_count": null,
      "outputs": [
        {
          "output_type": "stream",
          "name": "stdout",
          "text": [
            "Downloading data from https://storage.googleapis.com/tensorflow/tf-keras-datasets/train-labels-idx1-ubyte.gz\n",
            "29515/29515 [==============================] - 0s 0us/step\n",
            "Downloading data from https://storage.googleapis.com/tensorflow/tf-keras-datasets/train-images-idx3-ubyte.gz\n",
            "26421880/26421880 [==============================] - 0s 0us/step\n",
            "Downloading data from https://storage.googleapis.com/tensorflow/tf-keras-datasets/t10k-labels-idx1-ubyte.gz\n",
            "5148/5148 [==============================] - 0s 0us/step\n",
            "Downloading data from https://storage.googleapis.com/tensorflow/tf-keras-datasets/t10k-images-idx3-ubyte.gz\n",
            "4422102/4422102 [==============================] - 0s 0us/step\n"
          ]
        }
      ]
    },
    {
      "cell_type": "code",
      "source": [
        "def preprocess(x, y):\n",
        "  x = tf.cast(x, tf.float32) / 255.0\n",
        "  y = tf.cast(y, tf.int64)\n",
        "  return x, y\n",
        "\n",
        "def create_dataset(xs, ys, n_classes=10):\n",
        "  ys = tf.one_hot(ys, depth=n_classes)\n",
        "  return tf.data.Dataset.from_tensor_slices((xs, ys)) \\\n",
        "    .map(preprocess) \\\n",
        "    .shuffle(len(ys)) \\\n",
        "    .batch(128)\n",
        "\n",
        "train_dataset = create_dataset(x_train, y_train)\n",
        "val_dataset = create_dataset(x_val, y_val)"
      ],
      "metadata": {
        "id": "r_lAvakHjRIe"
      },
      "execution_count": null,
      "outputs": []
    },
    {
      "cell_type": "code",
      "source": [
        "model = keras.Sequential([\n",
        "    keras.layers.Reshape(target_shape=(28 * 28,), input_shape=(28, 28)),\n",
        "    keras.layers.Dense(units=256, activation='relu'),\n",
        "    keras.layers.Dense(units=192, activation='relu'),\n",
        "    keras.layers.Dense(units=128, activation='relu'),\n",
        "    keras.layers.Dense(units=10, activation='softmax')\n",
        "])\n",
        "model.compile(optimizer='adam',\n",
        "              loss=tf.losses.CategoricalCrossentropy(from_logits=True),\n",
        "              metrics=['accuracy'])\n",
        "\n",
        "history = model.fit(\n",
        "    train_dataset.repeat(),\n",
        "    epochs=10,\n",
        "    steps_per_epoch=500,\n",
        "    validation_data=val_dataset.repeat(),\n",
        "    validation_steps=2\n",
        ")"
      ],
      "metadata": {
        "colab": {
          "base_uri": "https://localhost:8080/"
        },
        "id": "TR8QGwvsjuJB",
        "outputId": "4225b631-1263-404e-c8e9-4852e932ce82"
      },
      "execution_count": null,
      "outputs": [
        {
          "output_type": "stream",
          "name": "stdout",
          "text": [
            "Epoch 1/10\n"
          ]
        },
        {
          "output_type": "stream",
          "name": "stderr",
          "text": [
            "/usr/local/lib/python3.10/dist-packages/keras/src/backend.py:5575: UserWarning: \"`categorical_crossentropy` received `from_logits=True`, but the `output` argument was produced by a Softmax activation and thus does not represent logits. Was this intended?\n",
            "  output, from_logits = _get_logits(\n"
          ]
        },
        {
          "output_type": "stream",
          "name": "stdout",
          "text": [
            "500/500 [==============================] - 7s 8ms/step - loss: 0.4942 - accuracy: 0.8255 - val_loss: 0.3335 - val_accuracy: 0.8711\n",
            "Epoch 2/10\n",
            "500/500 [==============================] - 5s 10ms/step - loss: 0.3583 - accuracy: 0.8687 - val_loss: 0.4353 - val_accuracy: 0.8477\n",
            "Epoch 3/10\n",
            "500/500 [==============================] - 4s 8ms/step - loss: 0.3227 - accuracy: 0.8820 - val_loss: 0.3389 - val_accuracy: 0.8828\n",
            "Epoch 4/10\n",
            "500/500 [==============================] - 4s 7ms/step - loss: 0.2995 - accuracy: 0.8881 - val_loss: 0.3904 - val_accuracy: 0.8594\n",
            "Epoch 5/10\n",
            "500/500 [==============================] - 4s 8ms/step - loss: 0.2748 - accuracy: 0.8976 - val_loss: 0.3724 - val_accuracy: 0.8672\n",
            "Epoch 6/10\n",
            "500/500 [==============================] - 5s 10ms/step - loss: 0.2655 - accuracy: 0.8999 - val_loss: 0.3634 - val_accuracy: 0.8672\n",
            "Epoch 7/10\n",
            "500/500 [==============================] - 4s 8ms/step - loss: 0.2523 - accuracy: 0.9041 - val_loss: 0.3652 - val_accuracy: 0.8594\n",
            "Epoch 8/10\n",
            "500/500 [==============================] - 3s 7ms/step - loss: 0.2401 - accuracy: 0.9093 - val_loss: 0.3506 - val_accuracy: 0.8789\n",
            "Epoch 9/10\n",
            "500/500 [==============================] - 5s 9ms/step - loss: 0.2289 - accuracy: 0.9128 - val_loss: 0.3198 - val_accuracy: 0.8984\n",
            "Epoch 10/10\n",
            "500/500 [==============================] - 4s 8ms/step - loss: 0.2196 - accuracy: 0.9160 - val_loss: 0.3134 - val_accuracy: 0.8750\n"
          ]
        }
      ]
    },
    {
      "cell_type": "code",
      "source": [
        "predictions = model.predict(val_dataset)\n",
        "np.argmax(predictions)\n"
      ],
      "metadata": {
        "id": "am1gmSinkN_M"
      },
      "execution_count": null,
      "outputs": []
    },
    {
      "cell_type": "markdown",
      "source": [
        "## Using CNN to classify MNIST dataset"
      ],
      "metadata": {
        "id": "CAfmJOScph8X"
      }
    },
    {
      "cell_type": "code",
      "source": [
        "import tensorflow as tf\n",
        "from tensorflow.keras import datasets, layers, models\n",
        "import matplotlib.pyplot as plt"
      ],
      "metadata": {
        "id": "Lmu5jf2XEiM_"
      },
      "execution_count": null,
      "outputs": []
    },
    {
      "cell_type": "code",
      "source": [
        "(x_train, y_train), (x_test, y_test) = keras.datasets.mnist.load_data()\n"
      ],
      "metadata": {
        "id": "cRqygl25Eq9q"
      },
      "execution_count": null,
      "outputs": []
    },
    {
      "cell_type": "code",
      "source": [],
      "metadata": {
        "id": "naDAKaKUOBT3"
      },
      "execution_count": null,
      "outputs": []
    }
  ]
}